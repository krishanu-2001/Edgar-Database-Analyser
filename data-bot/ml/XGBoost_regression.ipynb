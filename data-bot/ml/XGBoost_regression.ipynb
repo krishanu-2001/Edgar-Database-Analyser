{
  "cells": [
    {
      "cell_type": "markdown",
      "metadata": {
        "id": "Ae9RTiAK74gP"
      },
      "source": [
        "**Import all the required libraries**"
      ]
    },
    {
      "cell_type": "code",
      "execution_count": 1,
      "metadata": {
        "id": "Qqx9EBBOAckK"
      },
      "outputs": [],
      "source": [
        "import numpy as np \n",
        "import pandas as pd \n",
        "\n",
        "from sklearn.model_selection import train_test_split\n",
        "from xgboost import XGBClassifier\n",
        "import statistics"
      ]
    },
    {
      "cell_type": "markdown",
      "metadata": {
        "id": "HXqY_F3S74gU"
      },
      "source": [
        "**The data consists of certain data points such as GrossMargin,WorkingCapitalRatio,EarningPerShare for all the companies. Using these data points, we calculate a variety ratios using mathematical formulae based on the data points. Finally, we have labels (with value 0 or 1) corresponding to these ratios depending on their actual value in comparison to an ideal value it should have.**"
      ]
    },
    {
      "cell_type": "markdown",
      "metadata": {
        "id": "twvC_60A74gV"
      },
      "source": [
        "**Import the data, and create a column 'aggregate' which stores the mean of all the label columns**"
      ]
    },
    {
      "cell_type": "code",
      "execution_count": 2,
      "metadata": {
        "id": "cAEfkLZOAckO"
      },
      "outputs": [],
      "source": [
        "data = pd.read_csv(\"company_data.csv\")\n",
        "data = data.set_index('cik_date')\n",
        "data[['wce_label','eps_label','de_label','pe_label','roe_label','growth_rate_label','profitm_label','grossm_label','ro40_label','churnrate_label','EVbyEbidta_label','marketCap_label','magicNum_label']] = data[['wce_label','eps_label','de_label','pe_label','roe_label','growth_rate_label','profitm_label','grossm_label','ro40_label','churnrate_label','EVbyEbidta_label','marketCap_label','magicNum_label']].fillna(0)\n",
        "data['aggregate'] = data[['wce_label','eps_label','de_label','pe_label','roe_label','growth_rate_label','profitm_label','grossm_label','ro40_label','churnrate_label','EVbyEbidta_label','marketCap_label','magicNum_label']].mean(axis = 1, skipna = True)"
      ]
    },
    {
      "cell_type": "markdown",
      "metadata": {
        "id": "bWPPSd8v74gW"
      },
      "source": [
        "**We assign average value of the column to all the missing data points**"
      ]
    },
    {
      "cell_type": "code",
      "execution_count": 3,
      "metadata": {
        "id": "WfxHuFvUAckO"
      },
      "outputs": [],
      "source": [
        "avg_values = data.mean(axis = 0, skipna = True).fillna(0).to_dict()\n",
        "for key in data.keys():\n",
        "  data[key] = data[key].fillna(avg_values[key])"
      ]
    },
    {
      "cell_type": "markdown",
      "metadata": {
        "id": "BG45n2ST74gW"
      },
      "source": [
        "***For training our model, the input features are the data points and calculated ratios, while the output feature is the 'aggregate' column which is the sum of all the label columns***"
      ]
    },
    {
      "cell_type": "code",
      "execution_count": 4,
      "metadata": {
        "id": "GGN6pJmPAckP"
      },
      "outputs": [],
      "source": [
        "X = data[['GrossProfit','GrossMargin','WorkingCapitalRatio','EarningPerShare','DebtToEquityRatio','PEratio','ReturnOfEquity','EBIDTAratio','EvRatio','EVbyEbidta','ChurnRate','GrowthRate','ProfitMargin','RuleOf40','MarketCap','MagicNumber']]\n",
        "y = data['aggregate']"
      ]
    },
    {
      "cell_type": "code",
      "execution_count": 5,
      "metadata": {
        "colab": {
          "base_uri": "https://localhost:8080/"
        },
        "id": "mnoyjiWo9e5P",
        "outputId": "6db74649-187e-4c47-a53b-05fe7095a7f6"
      },
      "outputs": [
        {
          "output_type": "stream",
          "name": "stdout",
          "text": [
            "0.27653133903133903\n"
          ]
        }
      ],
      "source": [
        "print(statistics.mean(list(y)))"
      ]
    },
    {
      "cell_type": "markdown",
      "metadata": {
        "id": "V9nqn14C74gX"
      },
      "source": [
        "***Split the dataset into train and test***"
      ]
    },
    {
      "cell_type": "code",
      "execution_count": 6,
      "metadata": {
        "id": "XyadMUDvAckQ"
      },
      "outputs": [],
      "source": [
        "X_train, X_test, y_train, y_test = train_test_split(X, y, test_size=0.3, random_state=0)"
      ]
    },
    {
      "cell_type": "code",
      "execution_count": 7,
      "metadata": {
        "colab": {
          "base_uri": "https://localhost:8080/"
        },
        "id": "G-vkXeZ68838",
        "outputId": "79f33f4e-c4f7-4ea2-c899-c8dbc79d53a0"
      },
      "outputs": [
        {
          "output_type": "execute_result",
          "data": {
            "text/plain": [
              "((302, 16), (130, 16), (302,), (130,))"
            ]
          },
          "metadata": {},
          "execution_count": 7
        }
      ],
      "source": [
        "X_train.shape , X_test.shape , y_train.shape , y_test.shape"
      ]
    },
    {
      "cell_type": "markdown",
      "metadata": {
        "id": "9slj3jWw74gZ"
      },
      "source": [
        "**We perform regression on the 'aggregate' value**"
      ]
    },
    {
      "cell_type": "code",
      "execution_count": 8,
      "metadata": {
        "colab": {
          "base_uri": "https://localhost:8080/"
        },
        "id": "_sPY6hMfBl0j",
        "outputId": "5c944135-1beb-4915-e6df-ad169524be65"
      },
      "outputs": [
        {
          "output_type": "stream",
          "name": "stdout",
          "text": [
            "[14:20:36] WARNING: /workspace/src/objective/regression_obj.cu:152: reg:linear is now deprecated in favor of reg:squarederror.\n"
          ]
        }
      ],
      "source": [
        "from xgboost import XGBRegressor\n",
        "\n",
        "xgb_regressor = XGBRegressor(n_estimators=1000, max_depth=7, eta=0.1, subsample=0.7, colsample_bytree=0.8)\n",
        "\n",
        "xgb_regressor.fit(X_train,y_train)\n",
        "xgb_test_preds = xgb_regressor.predict(X_test)"
      ]
    },
    {
      "cell_type": "code",
      "execution_count": 9,
      "metadata": {
        "colab": {
          "base_uri": "https://localhost:8080/"
        },
        "id": "PEIYXcLE9FDw",
        "outputId": "7411345c-29ea-4ac2-db4f-0f13b30ed276"
      },
      "outputs": [
        {
          "output_type": "stream",
          "name": "stdout",
          "text": [
            "0.0029595451994623373\n"
          ]
        }
      ],
      "source": [
        "from sklearn.metrics import mean_squared_error\n",
        "error = mean_squared_error(list(y_test), xgb_test_preds)\n",
        "print(error)"
      ]
    },
    {
      "cell_type": "code",
      "execution_count": 10,
      "metadata": {
        "id": "C8EdJm7v_BHM"
      },
      "outputs": [],
      "source": [
        "final_preds = xgb_regressor.predict(X)\n",
        "data['predicted_aggregate'] = final_preds\n",
        "data.to_csv('predicted_company_scores.csv')"
      ]
    },
    {
      "cell_type": "code",
      "execution_count": 11,
      "metadata": {
        "id": "Z811aaPOBAg7"
      },
      "outputs": [],
      "source": [
        "import pickle\n",
        "with open('xgbmodel_regression.pkl', 'wb') as fid:\n",
        "    pickle.dump(xgb_regressor,fid,2) "
      ]
    },
    {
      "cell_type": "markdown",
      "metadata": {
        "id": "PoG53tqk74gZ"
      },
      "source": [
        "**Based on the output of the regression model, we generate labels 0,1,2 using some threshold values**"
      ]
    },
    {
      "cell_type": "code",
      "execution_count": 12,
      "metadata": {
        "id": "lDj0gqSL5IFA"
      },
      "outputs": [],
      "source": [
        "def findLabel(x):\n",
        "  if x>=0 and x<=0.1797:\n",
        "    return 0\n",
        "  elif x>0.1795 and x<=0.3403:\n",
        "    return 1\n",
        "  else:\n",
        "    return 2"
      ]
    },
    {
      "cell_type": "code",
      "execution_count": 13,
      "metadata": {
        "id": "YJqER7td6wq_"
      },
      "outputs": [],
      "source": [
        "test_labels = list()\n",
        "pred_labels = list()"
      ]
    },
    {
      "cell_type": "code",
      "execution_count": 14,
      "metadata": {
        "colab": {
          "base_uri": "https://localhost:8080/"
        },
        "id": "REJXvhznSJbg",
        "outputId": "7e26e90b-83da-4227-b7e6-acba1173a1ea"
      },
      "outputs": [
        {
          "output_type": "stream",
          "name": "stdout",
          "text": [
            "130\n"
          ]
        }
      ],
      "source": [
        "count = 0\n",
        "for ind in range(len(list(y_test.to_dict().values()))):\n",
        "  test_score = y_test[ind]\n",
        "  pred_score = xgb_test_preds[ind]\n",
        "  test_labels.append(findLabel(test_score))\n",
        "  pred_labels.append(findLabel(pred_score))\n",
        "  count+=1\n",
        "print(count)"
      ]
    },
    {
      "cell_type": "markdown",
      "metadata": {
        "id": "QMIIvSDt74gb"
      },
      "source": [
        "**We calculate the final labels using the regression outputs and the threshold value**"
      ]
    },
    {
      "cell_type": "code",
      "execution_count": 18,
      "metadata": {
        "colab": {
          "base_uri": "https://localhost:8080/"
        },
        "id": "_wpoj2tO5dns",
        "outputId": "285639a8-d3b6-42b3-bf16-f16523ad5f73"
      },
      "outputs": [
        {
          "output_type": "stream",
          "name": "stdout",
          "text": [
            "accuracy: 0.8461538461538461\n",
            "precision_score: [0.95454545 0.82       0.75      ]\n",
            "recall_score: [0.91304348 0.78846154 0.84375   ]\n",
            "f1_score: [0.93333333 0.80392157 0.79411765]\n"
          ]
        }
      ],
      "source": [
        "from sklearn.metrics import accuracy_score , precision_score, recall_score, f1_score \n",
        "\n",
        "accuracy = accuracy_score(test_labels,pred_labels)\n",
        "precision = precision_score(test_labels,pred_labels,average=None)\n",
        "recall = recall_score(test_labels,pred_labels,average=None)\n",
        "f1 = f1_score(test_labels,pred_labels,average=None)\n",
        "\n",
        "\n",
        "print(f\"accuracy: {accuracy}\")\n",
        "print(f\"precision_score: {precision}\")\n",
        "print(f\"recall_score: {recall}\")\n",
        "print(f\"f1_score: {f1}\")"
      ]
    }
  ],
  "metadata": {
    "colab": {
      "collapsed_sections": [],
      "name": "XGBoost_regression.ipynb",
      "provenance": []
    },
    "interpreter": {
      "hash": "a8b80aeaef2160cbb1b899bde66d93535240dd26f47c6baa9fb5e6b6d52c41cb"
    },
    "kernelspec": {
      "display_name": "Python 3.9.7 ('tf-keras-gpu-test')",
      "language": "python",
      "name": "python3"
    },
    "language_info": {
      "codemirror_mode": {
        "name": "ipython",
        "version": 3
      },
      "file_extension": ".py",
      "mimetype": "text/x-python",
      "name": "python",
      "nbconvert_exporter": "python",
      "pygments_lexer": "ipython3",
      "version": "3.7.9"
    },
    "orig_nbformat": 4
  },
  "nbformat": 4,
  "nbformat_minor": 0
}